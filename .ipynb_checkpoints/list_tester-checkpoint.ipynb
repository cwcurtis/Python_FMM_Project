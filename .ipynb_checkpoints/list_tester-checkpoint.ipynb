{
 "cells": [
  {
   "cell_type": "code",
   "execution_count": 1,
   "metadata": {},
   "outputs": [],
   "source": [
    "#%load_ext cython\n",
    "%load_ext line_profiler"
   ]
  },
  {
   "cell_type": "code",
   "execution_count": 2,
   "metadata": {},
   "outputs": [],
   "source": [
    "import numpy as np\n",
    "import tree_build_routines_c as tbrc\n",
    "import list_build_routines_c as lbrc\n",
    "import tree_compute_routines_c as tcrc\n",
    "import tree_build_routines as tbr\n",
    "import list_build_routines as lbr\n",
    "import tree_compute_routines as tcr\n",
    "import pstats, cProfile\n",
    "import matplotlib.pyplot as plt\n",
    "%matplotlib inline"
   ]
  },
  {
   "cell_type": "code",
   "execution_count": 3,
   "metadata": {
    "scrolled": true
   },
   "outputs": [
    {
     "name": "stdout",
     "output_type": "stream",
     "text": [
      "10 loops, best of 3: 144 ms per loop\n",
      "10 loops, best of 3: 80.6 ms per loop\n",
      "10 loops, best of 3: 175 ms per loop\n"
     ]
    }
   ],
   "source": [
    "npts = 10\n",
    "\n",
    "x = np.linspace(1.,2.,npts+1) \n",
    "zpos, xpos = np.meshgrid(x, x)\n",
    "gvals = 1e-2*np.ones((npts+1)**2) \n",
    "pval = 10\n",
    "mx = 5.\n",
    "ep = 1./npts\n",
    "nvorts = xpos.size\n",
    "ccnt, rcnt = 2, 2\n",
    "\n",
    "mytree = tbr.make_tree(xpos.flatten(), zpos.flatten(), gvals, pval, mx, ep, nvorts, ccnt, rcnt)\n",
    "tbr.build_tree(mytree)\n",
    "lbr.build_tree_lists(mytree)\n",
    "Kvals = tcr.multipole_comp(mytree)\n",
    "# print Kvals\n",
    "\n",
    "%timeit -t tbr.build_tree(mytree)\n",
    "%timeit -t lbr.build_tree_lists(mytree)\n",
    "%timeit -t tcr.multipole_comp(mytree)\n",
    "\n",
    "# Kvalss = tcrc.near_neighbor_comp(xpos.flatten(), zpos.flatten(), np.empty(0), np.empty(0), gvals, np.empty(0), mx, ep, nvorts, 0)\n",
    "# print np.linalg.norm(Kvals-Kvalss,np.inf)/np.linalg.norm(Kvalss,np.inf)\n",
    "# print (Kvalss-Kvals)/np.linalg.norm(Kvalss,np.inf)\n",
    "# print np.linalg.norm(Kvals-Kvalss, np.inf)\n",
    "# diff = np.max(np.abs(Kvals-Kvalss) ,axis=1)\n",
    "# plt.figure(1)\n",
    "# plt.plot(np.arange(nvorts),diff)\n"
   ]
  },
  {
   "cell_type": "code",
   "execution_count": 4,
   "metadata": {},
   "outputs": [
    {
     "ename": "RuntimeError",
     "evalue": "maximum recursion depth exceeded while calling a Python object",
     "output_type": "error",
     "traceback": [
      "\u001b[0;31m---------------------------------------------------------------------------\u001b[0m",
      "\u001b[0;31mRuntimeError\u001b[0m                              Traceback (most recent call last)",
      "\u001b[0;32m<ipython-input-4-60a2dc1a3b19>\u001b[0m in \u001b[0;36m<module>\u001b[0;34m()\u001b[0m\n\u001b[1;32m      1\u001b[0m \u001b[0mmytreec\u001b[0m \u001b[0;34m=\u001b[0m \u001b[0mtbrc\u001b[0m\u001b[0;34m.\u001b[0m\u001b[0mmake_tree\u001b[0m\u001b[0;34m(\u001b[0m\u001b[0mxpos\u001b[0m\u001b[0;34m.\u001b[0m\u001b[0mflatten\u001b[0m\u001b[0;34m(\u001b[0m\u001b[0;34m)\u001b[0m\u001b[0;34m,\u001b[0m \u001b[0mzpos\u001b[0m\u001b[0;34m.\u001b[0m\u001b[0mflatten\u001b[0m\u001b[0;34m(\u001b[0m\u001b[0;34m)\u001b[0m\u001b[0;34m,\u001b[0m \u001b[0mgvals\u001b[0m\u001b[0;34m,\u001b[0m \u001b[0mpval\u001b[0m\u001b[0;34m,\u001b[0m \u001b[0mmx\u001b[0m\u001b[0;34m,\u001b[0m \u001b[0mep\u001b[0m\u001b[0;34m,\u001b[0m \u001b[0mnvorts\u001b[0m\u001b[0;34m,\u001b[0m \u001b[0mccnt\u001b[0m\u001b[0;34m,\u001b[0m \u001b[0mrcnt\u001b[0m\u001b[0;34m)\u001b[0m\u001b[0;34m\u001b[0m\u001b[0m\n\u001b[0;32m----> 2\u001b[0;31m \u001b[0mtbrc\u001b[0m\u001b[0;34m.\u001b[0m\u001b[0mbuild_tree\u001b[0m\u001b[0;34m(\u001b[0m\u001b[0mmytreec\u001b[0m\u001b[0;34m)\u001b[0m\u001b[0;34m\u001b[0m\u001b[0m\n\u001b[0m\u001b[1;32m      3\u001b[0m \u001b[0mlbrc\u001b[0m\u001b[0;34m.\u001b[0m\u001b[0mbuild_tree_lists\u001b[0m\u001b[0;34m(\u001b[0m\u001b[0mmytreec\u001b[0m\u001b[0;34m)\u001b[0m\u001b[0;34m\u001b[0m\u001b[0m\n\u001b[1;32m      4\u001b[0m \u001b[0;31m# Kvalsc = tcrc.multipole_comp(mytreec)\u001b[0m\u001b[0;34m\u001b[0m\u001b[0;34m\u001b[0m\u001b[0m\n\u001b[1;32m      5\u001b[0m \u001b[0;34m\u001b[0m\u001b[0m\n",
      "\u001b[0;32m/home/ccurtis/Desktop/Python_Vortex_Patch_Solver/tree_build_routines_c.pyx\u001b[0m in \u001b[0;36mtree_build_routines_c.build_tree\u001b[0;34m()\u001b[0m\n\u001b[1;32m     82\u001b[0m                 \u001b[0mznt\u001b[0m \u001b[0;34m=\u001b[0m \u001b[0mzt\u001b[0m \u001b[0;34m-\u001b[0m \u001b[0mnrow\u001b[0m\u001b[0;34m*\u001b[0m\u001b[0mdnz\u001b[0m\u001b[0;34m\u001b[0m\u001b[0m\n\u001b[1;32m     83\u001b[0m                 \u001b[0mznb\u001b[0m \u001b[0;34m=\u001b[0m \u001b[0mznt\u001b[0m \u001b[0;34m-\u001b[0m \u001b[0mdnz\u001b[0m\u001b[0;34m\u001b[0m\u001b[0m\n\u001b[0;32m---> 84\u001b[0;31m                 \u001b[0mnew_node\u001b[0m \u001b[0;34m=\u001b[0m \u001b[0mnode_builder\u001b[0m\u001b[0;34m(\u001b[0m\u001b[0mtnodes\u001b[0m\u001b[0;34m,\u001b[0m \u001b[0mxnl\u001b[0m\u001b[0;34m,\u001b[0m \u001b[0mxnr\u001b[0m\u001b[0;34m,\u001b[0m \u001b[0mznb\u001b[0m\u001b[0;34m,\u001b[0m \u001b[0mznt\u001b[0m\u001b[0;34m,\u001b[0m \u001b[0mxloc\u001b[0m\u001b[0;34m,\u001b[0m \u001b[0mzloc\u001b[0m\u001b[0;34m,\u001b[0m \u001b[0mgloc\u001b[0m\u001b[0;34m,\u001b[0m \u001b[0mnum_list\u001b[0m\u001b[0;34m,\u001b[0m \u001b[0mtpts\u001b[0m\u001b[0;34m)\u001b[0m\u001b[0;34m\u001b[0m\u001b[0m\n\u001b[0m\u001b[1;32m     85\u001b[0m                 \u001b[0mtnodes\u001b[0m\u001b[0;34m.\u001b[0m\u001b[0mnodes\u001b[0m\u001b[0;34m[\u001b[0m\u001b[0mjj\u001b[0m\u001b[0;34m]\u001b[0m\u001b[0;34m.\u001b[0m\u001b[0madd_child\u001b[0m\u001b[0;34m(\u001b[0m\u001b[0mnew_node\u001b[0m\u001b[0;34m)\u001b[0m\u001b[0;34m\u001b[0m\u001b[0m\n\u001b[1;32m     86\u001b[0m         \u001b[0;32melse\u001b[0m\u001b[0;34m:\u001b[0m\u001b[0;34m\u001b[0m\u001b[0m\n",
      "\u001b[0;32m/home/ccurtis/Desktop/Python_Vortex_Patch_Solver/tree_build_routines_c.pyx\u001b[0m in \u001b[0;36mtree_build_routines_c.node_builder\u001b[0;34m()\u001b[0m\n\u001b[1;32m    130\u001b[0m             \u001b[0mznt\u001b[0m \u001b[0;34m=\u001b[0m \u001b[0mzt\u001b[0m \u001b[0;34m-\u001b[0m \u001b[0mnrow\u001b[0m \u001b[0;34m*\u001b[0m \u001b[0mdnz\u001b[0m\u001b[0;34m\u001b[0m\u001b[0m\n\u001b[1;32m    131\u001b[0m             \u001b[0mznb\u001b[0m \u001b[0;34m=\u001b[0m \u001b[0mznt\u001b[0m \u001b[0;34m-\u001b[0m \u001b[0mdnz\u001b[0m\u001b[0;34m\u001b[0m\u001b[0m\n\u001b[0;32m--> 132\u001b[0;31m             \u001b[0mnew_node\u001b[0m \u001b[0;34m=\u001b[0m \u001b[0mnode_builder\u001b[0m\u001b[0;34m(\u001b[0m\u001b[0mtnodes\u001b[0m\u001b[0;34m,\u001b[0m \u001b[0mxnl\u001b[0m\u001b[0;34m,\u001b[0m \u001b[0mxnr\u001b[0m\u001b[0;34m,\u001b[0m \u001b[0mznb\u001b[0m\u001b[0;34m,\u001b[0m \u001b[0mznt\u001b[0m\u001b[0;34m,\u001b[0m \u001b[0mxloc\u001b[0m\u001b[0;34m,\u001b[0m \u001b[0mzloc\u001b[0m\u001b[0;34m,\u001b[0m \u001b[0mgloc\u001b[0m\u001b[0;34m,\u001b[0m \u001b[0mnum_list\u001b[0m\u001b[0;34m,\u001b[0m \u001b[0mtpts\u001b[0m\u001b[0;34m)\u001b[0m\u001b[0;34m\u001b[0m\u001b[0m\n\u001b[0m\u001b[1;32m    133\u001b[0m             \u001b[0mlnode\u001b[0m\u001b[0;34m.\u001b[0m\u001b[0madd_child\u001b[0m\u001b[0;34m(\u001b[0m\u001b[0mnew_node\u001b[0m\u001b[0;34m)\u001b[0m\u001b[0;34m\u001b[0m\u001b[0m\n\u001b[1;32m    134\u001b[0m     \u001b[0;32melse\u001b[0m\u001b[0;34m:\u001b[0m\u001b[0;34m\u001b[0m\u001b[0m\n",
      "... last 1 frames repeated, from the frame below ...\n",
      "\u001b[0;32m/home/ccurtis/Desktop/Python_Vortex_Patch_Solver/tree_build_routines_c.pyx\u001b[0m in \u001b[0;36mtree_build_routines_c.node_builder\u001b[0;34m()\u001b[0m\n\u001b[1;32m    130\u001b[0m             \u001b[0mznt\u001b[0m \u001b[0;34m=\u001b[0m \u001b[0mzt\u001b[0m \u001b[0;34m-\u001b[0m \u001b[0mnrow\u001b[0m \u001b[0;34m*\u001b[0m \u001b[0mdnz\u001b[0m\u001b[0;34m\u001b[0m\u001b[0m\n\u001b[1;32m    131\u001b[0m             \u001b[0mznb\u001b[0m \u001b[0;34m=\u001b[0m \u001b[0mznt\u001b[0m \u001b[0;34m-\u001b[0m \u001b[0mdnz\u001b[0m\u001b[0;34m\u001b[0m\u001b[0m\n\u001b[0;32m--> 132\u001b[0;31m             \u001b[0mnew_node\u001b[0m \u001b[0;34m=\u001b[0m \u001b[0mnode_builder\u001b[0m\u001b[0;34m(\u001b[0m\u001b[0mtnodes\u001b[0m\u001b[0;34m,\u001b[0m \u001b[0mxnl\u001b[0m\u001b[0;34m,\u001b[0m \u001b[0mxnr\u001b[0m\u001b[0;34m,\u001b[0m \u001b[0mznb\u001b[0m\u001b[0;34m,\u001b[0m \u001b[0mznt\u001b[0m\u001b[0;34m,\u001b[0m \u001b[0mxloc\u001b[0m\u001b[0;34m,\u001b[0m \u001b[0mzloc\u001b[0m\u001b[0;34m,\u001b[0m \u001b[0mgloc\u001b[0m\u001b[0;34m,\u001b[0m \u001b[0mnum_list\u001b[0m\u001b[0;34m,\u001b[0m \u001b[0mtpts\u001b[0m\u001b[0;34m)\u001b[0m\u001b[0;34m\u001b[0m\u001b[0m\n\u001b[0m\u001b[1;32m    133\u001b[0m             \u001b[0mlnode\u001b[0m\u001b[0;34m.\u001b[0m\u001b[0madd_child\u001b[0m\u001b[0;34m(\u001b[0m\u001b[0mnew_node\u001b[0m\u001b[0;34m)\u001b[0m\u001b[0;34m\u001b[0m\u001b[0m\n\u001b[1;32m    134\u001b[0m     \u001b[0;32melse\u001b[0m\u001b[0;34m:\u001b[0m\u001b[0;34m\u001b[0m\u001b[0m\n",
      "\u001b[0;31mRuntimeError\u001b[0m: maximum recursion depth exceeded while calling a Python object"
     ]
    }
   ],
   "source": [
    "mytreec = tbrc.make_tree(xpos.flatten(), zpos.flatten(), gvals, pval, mx, ep, nvorts, ccnt, rcnt)\n",
    "tbrc.build_tree(mytreec)\n",
    "lbrc.build_tree_lists(mytreec)\n",
    "# Kvalsc = tcrc.multipole_comp(mytreec)\n",
    "\n",
    "%timeit -t tbrc.build_tree(mytreec)\n",
    "%timeit -t lbrc.build_tree_lists(mytreec)\n",
    "%timeit -t tcrc.multipole_comp(mytreec)\n",
    "\n",
    "# %timeit -t tcr.near_neighbor_comp(xpos.flatten(), zpos.flatten(), np.empty(0), np.empty(0), gvals, np.empty(0), ep, mx, nvorts, 0)\n",
    "# %timeit -t tcrc.near_neighbor_comp(xpos.flatten(), zpos.flatten(), np.empty(0), np.empty(0), gvals, np.empty(0), ep, mx, nvorts, 0)\n",
    "\n",
    "# Kvalsfst = tcrc.near_neighbor_comp(xpos.flatten(), zpos.flatten(), np.empty(0), np.empty(0), gvals, np.empty(0), mx, ep, nvorts, 0)\n",
    "# print Kvalsfst\n",
    "\n",
    "# %lprun -f lbr.build_node_lists lbr.build_tree_lists(mytree)\n",
    "cProfile.runctx(\"tcrc.multipole_comp(mytreec)\", globals(), locals(), \"Profile.prof\")\n",
    "s = pstats.Stats(\"Profile.prof\")\n",
    "s.strip_dirs().sort_stats(\"time\").print_stats()"
   ]
  },
  {
   "cell_type": "code",
   "execution_count": null,
   "metadata": {},
   "outputs": [],
   "source": []
  }
 ],
 "metadata": {
  "kernelspec": {
   "display_name": "Python 2",
   "language": "python",
   "name": "python2"
  },
  "language_info": {
   "codemirror_mode": {
    "name": "ipython",
    "version": 2
   },
   "file_extension": ".py",
   "mimetype": "text/x-python",
   "name": "python",
   "nbconvert_exporter": "python",
   "pygments_lexer": "ipython2",
   "version": "2.7.15"
  }
 },
 "nbformat": 4,
 "nbformat_minor": 2
}
