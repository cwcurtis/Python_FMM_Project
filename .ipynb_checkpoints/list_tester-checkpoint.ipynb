{
 "cells": [
  {
   "cell_type": "code",
   "execution_count": 1,
   "metadata": {},
   "outputs": [
    {
     "name": "stdout",
     "output_type": "stream",
     "text": [
      "Exception reporting mode: Plain\n",
      "Doctest mode is: ON\n"
     ]
    }
   ],
   "source": [
    "#%load_ext cython\n",
    "%load_ext line_profiler\n",
    "%doctest_mode"
   ]
  },
  {
   "cell_type": "code",
   "execution_count": 2,
   "metadata": {},
   "outputs": [],
   "source": [
    "import numpy as np\n",
    "import tree_build_routines_c as tbrc\n",
    "import list_build_routines_c as lbrc\n",
    "import tree_compute_routines_c as tcrc\n",
    "import tree_build_routines as tbr\n",
    "import list_build_routines as lbr\n",
    "import tree_compute_routines as tcr\n",
    "import matplotlib.pyplot as plt\n",
    "%matplotlib inline"
   ]
  },
  {
   "cell_type": "code",
   "execution_count": 3,
   "metadata": {
    "scrolled": true
   },
   "outputs": [],
   "source": [
    "npts = 10\n",
    "\n",
    "x = np.linspace(1.,2.,npts+1) \n",
    "zpos, xpos = np.meshgrid(x, x)\n",
    "gvals = 1e-2*np.ones((npts+1)**2) \n",
    "pval = 10\n",
    "mx = 5.\n",
    "ep = 1./npts\n",
    "nvorts = xpos.size\n",
    "ccnt, rcnt = 2, 2\n",
    "\n",
    "mytree = tbr.make_tree(xpos.flatten(), zpos.flatten(), gvals, pval, mx, ep, nvorts, ccnt, rcnt)\n",
    "tbr.build_tree(mytree)\n",
    "lbr.build_tree_lists(mytree)\n",
    "Kvals = tcr.multipole_comp(mytree)\n",
    "# print Kvals\n",
    "\n",
    "%timeit -t tbr.build_tree(mytree)\n",
    "%timeit -t lbr.build_tree_lists(mytree)\n",
    "%timeit -t tcr.multipole_comp(mytree)\n",
    "\n",
    "# %lprun -f lbr.build_node_lists lbr.build_tree_lists(mytree)"
   ]
  },
  {
   "cell_type": "code",
   "execution_count": 4,
   "metadata": {},
   "outputs": [
    {
     "name": "stdout",
     "output_type": "stream",
     "text": [
      "3.9968028886505635e-15\n",
      "100 loops, best of 3: 9.9 ms per loop\n",
      "100 loops, best of 3: 8.39 ms per loop\n",
      "100 loops, best of 3: 7.98 ms per loop\n"
     ]
    }
   ],
   "source": [
    "mytreec = tbrc.make_tree(xpos.flatten(), zpos.flatten(), gvals, pval, mx, ep, nvorts, ccnt, rcnt)\n",
    "tbrc.build_tree(mytreec)\n",
    "lbrc.build_tree_lists(mytreec)\n",
    "Kvalsc = tcrc.multipole_comp(mytreec)\n",
    "\n",
    "#Kvalsc = tree_develop(xpos, zpos, gvals, pval, mx, ep, nvorts, ccnt,rcnt)\n",
    "print np.linalg.norm(Kvalsc-Kvals, np.inf)\n",
    "\n",
    "%timeit -t tbrc.build_tree(mytreec)\n",
    "%timeit -t lbrc.build_tree_lists(mytreec)\n",
    "%timeit -t tcrc.multipole_comp(mytreec)\n"
   ]
  },
  {
   "cell_type": "code",
   "execution_count": null,
   "metadata": {},
   "outputs": [],
   "source": []
  }
 ],
 "metadata": {
  "kernelspec": {
   "display_name": "Python 2",
   "language": "python",
   "name": "python2"
  },
  "language_info": {
   "codemirror_mode": {
    "name": "ipython",
    "version": 2
   },
   "file_extension": ".py",
   "mimetype": "text/x-python",
   "name": "python",
   "nbconvert_exporter": "python",
   "pygments_lexer": "ipython2",
   "version": "2.7.15"
  }
 },
 "nbformat": 4,
 "nbformat_minor": 2
}
