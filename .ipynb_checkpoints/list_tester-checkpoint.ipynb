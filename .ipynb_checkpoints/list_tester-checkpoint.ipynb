{
 "cells": [
  {
   "cell_type": "code",
   "execution_count": 5,
   "metadata": {},
   "outputs": [
    {
     "name": "stdout",
     "output_type": "stream",
     "text": [
      "The line_profiler extension is already loaded. To reload it, use:\n",
      "  %reload_ext line_profiler\n",
      "Exception reporting mode: Plain\n",
      "Doctest mode is: ON\n"
     ]
    }
   ],
   "source": [
    "#%load_ext cython\n",
    "%load_ext line_profiler\n",
    "%doctest_mode"
   ]
  },
  {
   "cell_type": "code",
   "execution_count": 9,
   "metadata": {},
   "outputs": [],
   "source": [
    "import numpy as np\n",
    "import tree_build_routines_c as tbrc\n",
    "import list_build_routines_c as lbrc\n",
    "import tree_compute_routines_c as tcrc\n",
    "import tree_build_routines as tbr\n",
    "import list_build_routines as lbr\n",
    "import tree_compute_routines as tcr\n",
    "import pstats, cProfile\n",
    "import matplotlib.pyplot as plt\n",
    "from pyprof2calltree import convert, visualize\n",
    "%matplotlib inline"
   ]
  },
  {
   "cell_type": "code",
   "execution_count": 3,
   "metadata": {
    "scrolled": true
   },
   "outputs": [
    {
     "name": "stdout",
     "output_type": "stream",
     "text": [
      "10 loops, best of 3: 117 ms per loop\n",
      "10 loops, best of 3: 31 ms per loop\n",
      "The slowest run took 19.16 times longer than the fastest. This could mean that an intermediate result is being cached.\n",
      "1 loop, best of 3: 72.5 ms per loop\n"
     ]
    }
   ],
   "source": [
    "npts = 50\n",
    "\n",
    "x = np.linspace(1.,2.,npts+1) \n",
    "zpos, xpos = np.meshgrid(x, x)\n",
    "gvals = 1e-2*np.ones((npts+1)**2) \n",
    "pval = 10\n",
    "mx = 5.\n",
    "ep = 1./npts\n",
    "nvorts = xpos.size\n",
    "ccnt, rcnt = 2, 2\n",
    "\n",
    "mytree = tbr.make_tree(xpos.flatten(), zpos.flatten(), gvals, pval, mx, ep, nvorts, ccnt, rcnt)\n",
    "tbr.build_tree(mytree)\n",
    "lbr.build_tree_lists(mytree)\n",
    "# Kvals = tcr.multipole_comp(mytree)\n",
    "# print Kvals\n",
    "\n",
    "%timeit -t tbr.build_tree(mytree)\n",
    "%timeit -t lbr.build_tree_lists(mytree)\n",
    "%timeit -t tcr.multipole_comp(mytree)\n",
    "\n",
    "# Kvalss = tcrc.near_neighbor_comp(xpos.flatten(), zpos.flatten(), np.empty(0), np.empty(0), gvals, np.empty(0), mx, ep, nvorts, 0)\n",
    "# print np.linalg.norm(Kvals-Kvalss,np.inf)/np.linalg.norm(Kvalss,np.inf)\n",
    "# print (Kvalss-Kvals)/np.linalg.norm(Kvalss,np.inf)\n",
    "# print np.linalg.norm(Kvals-Kvalss, np.inf)\n",
    "# diff = np.max(np.abs(Kvals-Kvalss) ,axis=1)\n",
    "# plt.figure(1)\n",
    "# plt.plot(np.arange(nvorts),diff)\n"
   ]
  },
  {
   "cell_type": "code",
   "execution_count": 10,
   "metadata": {},
   "outputs": [
    {
     "name": "stdout",
     "output_type": "stream",
     "text": [
      "10 loops, best of 3: 54.2 ms per loop\n",
      "10 loops, best of 3: 55.6 ms per loop\n",
      "10 loops, best of 3: 63.8 ms per loop\n"
     ]
    },
    {
     "ename": "TypeError",
     "evalue": "runctx() takes exactly 4 arguments (5 given)",
     "output_type": "error",
     "traceback": [
      "Traceback \u001b[0;36m(most recent call last)\u001b[0m:\n",
      "\u001b[0;36m  File \u001b[0;32m\"<ipython-input-10-d5f47b9cb25f>\"\u001b[0;36m, line \u001b[0;32m20\u001b[0;36m, in \u001b[0;35m<module>\u001b[0;36m\u001b[0m\n\u001b[0;31m    profiler.runctx(\"lbrc.build_tree_lists(mytreec)\", globals(), locals(), \"Profile.prof\")\u001b[0m\n",
      "\u001b[0;31mTypeError\u001b[0m\u001b[0;31m:\u001b[0m runctx() takes exactly 4 arguments (5 given)\n"
     ]
    }
   ],
   "source": [
    "mytreec = tbrc.make_tree(xpos.flatten(), zpos.flatten(), gvals, pval, mx, ep, nvorts, ccnt, rcnt)\n",
    "tbrc.build_tree(mytreec)\n",
    "lbrc.build_tree_lists(mytreec)\n",
    "# Kvalsc = tcrc.multipole_comp(mytreec)\n",
    "\n",
    "# print np.linalg.norm(Kvalsc-Kvals, np.inf)\n",
    "\n",
    "%timeit -t tbrc.build_tree(mytreec)\n",
    "%timeit -t lbrc.build_tree_lists(mytreec)\n",
    "%timeit -t tcrc.multipole_comp(mytreec)\n",
    "\n",
    "# %timeit -t tcr.near_neighbor_comp(xpos.flatten(), zpos.flatten(), np.empty(0), np.empty(0), gvals, np.empty(0), ep, mx, nvorts, 0)\n",
    "# %timeit -t tcrc.near_neighbor_comp(xpos.flatten(), zpos.flatten(), np.empty(0), np.empty(0), gvals, np.empty(0), ep, mx, nvorts, 0)\n",
    "\n",
    "# Kvalsfst = tcrc.near_neighbor_comp(xpos.flatten(), zpos.flatten(), np.empty(0), np.empty(0), gvals, np.empty(0), mx, ep, nvorts, 0)\n",
    "# print Kvalsfst\n",
    "\n",
    "# %lprun -f lbr.build_node_lists lbr.build_tree_lists(mytree)\n",
    "profiler = cProfile.Profile()\n",
    "profiler.runctx(\"lbrc.build_tree_lists(mytreec)\", globals(), locals())\n",
    "visualize(profiler.getstats())\n",
    "# s = pstats.Stats(\"Profile.prof\")\n",
    "# s.strip_dirs().sort_stats(\"time\").print_stats()"
   ]
  },
  {
   "cell_type": "code",
   "execution_count": null,
   "metadata": {},
   "outputs": [],
   "source": []
  }
 ],
 "metadata": {
  "kernelspec": {
   "display_name": "Python 2",
   "language": "python",
   "name": "python2"
  },
  "language_info": {
   "codemirror_mode": {
    "name": "ipython",
    "version": 2
   },
   "file_extension": ".py",
   "mimetype": "text/x-python",
   "name": "python",
   "nbconvert_exporter": "python",
   "pygments_lexer": "ipython2",
   "version": "2.7.15rc1"
  }
 },
 "nbformat": 4,
 "nbformat_minor": 2
}
