{
 "cells": [
  {
   "cell_type": "code",
   "execution_count": 6,
   "metadata": {},
   "outputs": [
    {
     "name": "stdout",
     "output_type": "stream",
     "text": [
      "The cython extension is already loaded. To reload it, use:\n",
      "  %reload_ext cython\n",
      "The line_profiler extension is already loaded. To reload it, use:\n",
      "  %reload_ext line_profiler\n"
     ]
    }
   ],
   "source": [
    "%load_ext cython\n",
    "%load_ext line_profiler"
   ]
  },
  {
   "cell_type": "code",
   "execution_count": 7,
   "metadata": {},
   "outputs": [],
   "source": [
    "import numpy as np\n",
    "import tree_build_routines as tbr\n",
    "import list_build_routines_c as lbr"
   ]
  },
  {
   "cell_type": "code",
   "execution_count": 10,
   "metadata": {},
   "outputs": [
    {
     "name": "stdout",
     "output_type": "stream",
     "text": [
      "10 loops, best of 3: 150 ms per loop\n"
     ]
    }
   ],
   "source": [
    "npts = 50\n",
    "\n",
    "x = np.linspace(1.,2.,npts+1) \n",
    "xpos, zpos = np.meshgrid(x, x)\n",
    "gvals = np.ones((npts+1)**2) \n",
    "pval = 5\n",
    "mx = 10.\n",
    "nvorts = xpos.size\n",
    "ccnt, rcnt = 2, 2\n",
    "\n",
    "mytree = tbr.make_tree(xpos.flatten(), zpos.flatten(), gvals, pval, mx, nvorts, ccnt, rcnt)\n",
    "tbr.build_tree(mytree)\n",
    "%timeit -t lbr.build_tree_lists(mytree)\n",
    "#%lprun -f lbr.build_node_lists lbr.build_tree_lists(mytree)"
   ]
  },
  {
   "cell_type": "code",
   "execution_count": null,
   "metadata": {},
   "outputs": [],
   "source": []
  }
 ],
 "metadata": {
  "kernelspec": {
   "display_name": "Python 2",
   "language": "python",
   "name": "python2"
  },
  "language_info": {
   "codemirror_mode": {
    "name": "ipython",
    "version": 2
   },
   "file_extension": ".py",
   "mimetype": "text/x-python",
   "name": "python",
   "nbconvert_exporter": "python",
   "pygments_lexer": "ipython2",
   "version": "2.7.15rc1"
  }
 },
 "nbformat": 4,
 "nbformat_minor": 2
}
