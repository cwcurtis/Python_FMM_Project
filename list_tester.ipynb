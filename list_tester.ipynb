{
 "cells": [
  {
   "cell_type": "code",
   "execution_count": 1,
   "metadata": {},
   "outputs": [],
   "source": [
    "#%load_ext cython\n",
    "%load_ext line_profiler"
   ]
  },
  {
   "cell_type": "code",
   "execution_count": 2,
   "metadata": {},
   "outputs": [],
   "source": [
    "import numpy as np\n",
    "import tree_build_routines_c as tbrc\n",
    "import list_build_routines_c as lbrc\n",
    "import tree_compute_routines_c as tcrc\n",
    "import tree_build_routines as tbr\n",
    "import list_build_routines as lbr\n",
    "import tree_compute_routines as tcr\n",
    "import pstats, cProfile\n",
    "import matplotlib.pyplot as plt\n",
    "%matplotlib inline"
   ]
  },
  {
   "cell_type": "code",
   "execution_count": 3,
   "metadata": {
    "scrolled": true
   },
   "outputs": [
    {
     "name": "stdout",
     "output_type": "stream",
     "text": [
      "10 loops, best of 3: 147 ms per loop\n",
      "10 loops, best of 3: 81.2 ms per loop\n",
      "10 loops, best of 3: 174 ms per loop\n"
     ]
    }
   ],
   "source": [
    "npts = 50\n",
    "\n",
    "x = np.linspace(1.,2.,npts+1) \n",
    "zpos, xpos = np.meshgrid(x, x)\n",
    "gvals = 1e-2*np.ones((npts+1)**2) \n",
    "pval = 10\n",
    "mx = 5.\n",
    "ep = 1./npts\n",
    "nvorts = xpos.size\n",
    "ccnt, rcnt = 2, 2\n",
    "\n",
    "mytree = tbr.make_tree(xpos.flatten(), zpos.flatten(), gvals, pval, mx, ep, nvorts, ccnt, rcnt)\n",
    "tbr.build_tree(mytree)\n",
    "lbr.build_tree_lists(mytree)\n",
    "Kvals = tcr.multipole_comp(mytree)\n",
    "# print Kvals\n",
    "\n",
    "%timeit -t tbr.build_tree(mytree)\n",
    "%timeit -t lbr.build_tree_lists(mytree)\n",
    "%timeit -t tcr.multipole_comp(mytree)\n",
    "\n",
    "# Kvalss = tcrc.near_neighbor_comp(xpos.flatten(), zpos.flatten(), np.empty(0), np.empty(0), gvals, np.empty(0), mx, ep, nvorts, 0)\n",
    "# print np.linalg.norm(Kvals-Kvalss,np.inf)/np.linalg.norm(Kvalss,np.inf)\n",
    "# print (Kvalss-Kvals)/np.linalg.norm(Kvalss,np.inf)\n",
    "# print np.linalg.norm(Kvals-Kvalss, np.inf)\n",
    "# diff = np.max(np.abs(Kvals-Kvalss) ,axis=1)\n",
    "# plt.figure(1)\n",
    "# plt.plot(np.arange(nvorts),diff)\n"
   ]
  },
  {
   "cell_type": "code",
   "execution_count": 4,
   "metadata": {},
   "outputs": [
    {
     "name": "stdout",
     "output_type": "stream",
     "text": [
      "1 loop, best of 3: 231 ms per loop\n",
      "10 loops, best of 3: 136 ms per loop\n",
      "10 loops, best of 3: 150 ms per loop\n",
      "Fri Nov 30 13:21:14 2018    Profile.prof\n",
      "\n",
      "         4779 function calls in 0.181 seconds\n",
      "\n",
      "   Ordered by: internal time\n",
      "\n",
      "   ncalls  tottime  percall  cumtime  percall filename:lineno(function)\n",
      "        1    0.158    0.158    0.181    0.181 {tree_compute_routines_c.multipole_comp}\n",
      "     2388    0.012    0.000    0.012    0.000 {numpy.core.multiarray.array}\n",
      "     2388    0.011    0.000    0.022    0.000 numeric.py:433(asarray)\n",
      "        1    0.000    0.000    0.181    0.181 <string>:1(<module>)\n",
      "        1    0.000    0.000    0.000    0.000 {method 'disable' of '_lsprof.Profiler' objects}\n",
      "\n",
      "\n"
     ]
    },
    {
     "data": {
      "text/plain": [
       "<pstats.Stats instance at 0x7f73230ea050>"
      ]
     },
     "execution_count": 4,
     "metadata": {},
     "output_type": "execute_result"
    }
   ],
   "source": [
    "mytreec = tbrc.make_tree(xpos.flatten(), zpos.flatten(), gvals, pval, mx, ep, nvorts, ccnt, rcnt)\n",
    "tbrc.build_tree(mytreec)\n",
    "lbrc.build_tree_lists(mytreec)\n",
    "# Kvalsc = tcrc.multipole_comp(mytreec)\n",
    "\n",
    "%timeit -t tbrc.build_tree(mytreec)\n",
    "%timeit -t lbrc.build_tree_lists(mytreec)\n",
    "%timeit -t tcrc.multipole_comp(mytreec)\n",
    "\n",
    "# %timeit -t tcr.near_neighbor_comp(xpos.flatten(), zpos.flatten(), np.empty(0), np.empty(0), gvals, np.empty(0), ep, mx, nvorts, 0)\n",
    "# %timeit -t tcrc.near_neighbor_comp(xpos.flatten(), zpos.flatten(), np.empty(0), np.empty(0), gvals, np.empty(0), ep, mx, nvorts, 0)\n",
    "\n",
    "# Kvalsfst = tcrc.near_neighbor_comp(xpos.flatten(), zpos.flatten(), np.empty(0), np.empty(0), gvals, np.empty(0), mx, ep, nvorts, 0)\n",
    "# print Kvalsfst\n",
    "\n",
    "# %lprun -f lbr.build_node_lists lbr.build_tree_lists(mytree)\n",
    "cProfile.runctx(\"tcrc.multipole_comp(mytreec)\", globals(), locals(), \"Profile.prof\")\n",
    "s = pstats.Stats(\"Profile.prof\")\n",
    "s.strip_dirs().sort_stats(\"time\").print_stats()"
   ]
  },
  {
   "cell_type": "code",
   "execution_count": null,
   "metadata": {},
   "outputs": [],
   "source": []
  }
 ],
 "metadata": {
  "kernelspec": {
   "display_name": "Python 2",
   "language": "python",
   "name": "python2"
  },
  "language_info": {
   "codemirror_mode": {
    "name": "ipython",
    "version": 2
   },
   "file_extension": ".py",
   "mimetype": "text/x-python",
   "name": "python",
   "nbconvert_exporter": "python",
   "pygments_lexer": "ipython2",
   "version": "2.7.15"
  }
 },
 "nbformat": 4,
 "nbformat_minor": 2
}
